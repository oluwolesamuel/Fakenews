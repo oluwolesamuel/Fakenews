{
 "cells": [
  {
   "cell_type": "code",
   "execution_count": 15,
   "id": "d7ec2f40-4d69-45c2-935c-d5409f838926",
   "metadata": {},
   "outputs": [],
   "source": [
    "import numpy as np\n",
    "import pandas as pd\n",
    "import itertools\n",
    "from sklearn.model_selection import train_test_split\n",
    "from sklearn.feature_extraction.text import TfidfVectorizer\n",
    "from sklearn.linear_model import PassiveAggressiveClassifier\n",
    "from sklearn.metrics import accuracy_score, confusion_matrix   \n",
    "#importing the libraries required"
   ]
  },
  {
   "cell_type": "code",
   "execution_count": 25,
   "id": "72376dd0-8e7b-49b2-83db-6f34bdd38e81",
   "metadata": {},
   "outputs": [],
   "source": [
    "df=pd.read_csv('Documents/Data stuff/news.csv') #importing dataset and assigning to variable"
   ]
  },
  {
   "cell_type": "code",
   "execution_count": 3,
   "id": "0a4eb3b9-fcc9-49dc-a17d-a6e516683a6d",
   "metadata": {},
   "outputs": [],
   "source": []
  },
  {
   "cell_type": "code",
   "execution_count": 18,
   "id": "8426bf63-8ccf-4fac-96ab-ffa87bb8bb8f",
   "metadata": {},
   "outputs": [
    {
     "data": {
      "text/plain": [
       "(6335, 4)"
      ]
     },
     "execution_count": 18,
     "metadata": {},
     "output_type": "execute_result"
    }
   ],
   "source": [
    "df.shape   #gets number of rows and collumns"
   ]
  },
  {
   "cell_type": "code",
   "execution_count": 27,
   "id": "f764140a-0f80-415b-bb01-ee484769850e",
   "metadata": {},
   "outputs": [
    {
     "data": {
      "text/plain": [
       "<bound method NDFrame.head of       Unnamed: 0                                              title  \\\n",
       "0           8476                       You Can Smell Hillary’s Fear   \n",
       "1          10294  Watch The Exact Moment Paul Ryan Committed Pol...   \n",
       "2           3608        Kerry to go to Paris in gesture of sympathy   \n",
       "3          10142  Bernie supporters on Twitter erupt in anger ag...   \n",
       "4            875   The Battle of New York: Why This Primary Matters   \n",
       "...          ...                                                ...   \n",
       "6330        4490  State Department says it can't find emails fro...   \n",
       "6331        8062  The ‘P’ in PBS Should Stand for ‘Plutocratic’ ...   \n",
       "6332        8622  Anti-Trump Protesters Are Tools of the Oligarc...   \n",
       "6333        4021  In Ethiopia, Obama seeks progress on peace, se...   \n",
       "6334        4330  Jeb Bush Is Suddenly Attacking Trump. Here's W...   \n",
       "\n",
       "                                                   text label  \n",
       "0     Daniel Greenfield, a Shillman Journalism Fello...  FAKE  \n",
       "1     Google Pinterest Digg Linkedin Reddit Stumbleu...  FAKE  \n",
       "2     U.S. Secretary of State John F. Kerry said Mon...  REAL  \n",
       "3     — Kaydee King (@KaydeeKing) November 9, 2016 T...  FAKE  \n",
       "4     It's primary day in New York and front-runners...  REAL  \n",
       "...                                                 ...   ...  \n",
       "6330  The State Department told the Republican Natio...  REAL  \n",
       "6331  The ‘P’ in PBS Should Stand for ‘Plutocratic’ ...  FAKE  \n",
       "6332   Anti-Trump Protesters Are Tools of the Oligar...  FAKE  \n",
       "6333  ADDIS ABABA, Ethiopia —President Obama convene...  REAL  \n",
       "6334  Jeb Bush Is Suddenly Attacking Trump. Here's W...  REAL  \n",
       "\n",
       "[6335 rows x 4 columns]>"
      ]
     },
     "execution_count": 27,
     "metadata": {},
     "output_type": "execute_result"
    }
   ],
   "source": [
    "df.head  #gets certain number of rows based on value in brackets, remove brackets to get all rows in data set"
   ]
  },
  {
   "cell_type": "code",
   "execution_count": 28,
   "id": "8279b6e2-9188-4550-b0ec-2e42a6f48206",
   "metadata": {},
   "outputs": [],
   "source": [
    "labels=df.label  #getting labels for each row of data\n"
   ]
  },
  {
   "cell_type": "code",
   "execution_count": 29,
   "id": "09c91929-a292-459c-924a-c090ab357438",
   "metadata": {},
   "outputs": [
    {
     "data": {
      "text/plain": [
       "0    FAKE\n",
       "1    FAKE\n",
       "2    REAL\n",
       "3    FAKE\n",
       "4    REAL\n",
       "Name: label, dtype: object"
      ]
     },
     "execution_count": 29,
     "metadata": {},
     "output_type": "execute_result"
    }
   ],
   "source": [
    "labels.head() #assigns labels to each row, basically shows y axis / output"
   ]
  },
  {
   "cell_type": "code",
   "execution_count": 46,
   "id": "e33054b9-22cd-4727-afc4-24c81d1cace1",
   "metadata": {},
   "outputs": [],
   "source": [
    "x_train,x_test, y_train,y_test=train_test_split(df['text'],labels, test_size=0.2, random_state=7) #training and testing line, text is been tested, y(labels) are the output, testsize=0.2 reps20% used for testing, rest is for training "
   ]
  },
  {
   "cell_type": "code",
   "execution_count": 47,
   "id": "da247755-af3a-4fc4-911e-fd17375565bf",
   "metadata": {},
   "outputs": [],
   "source": [
    "tfid_vector=TfidfVectorizer(stop_words='english', max_df=0.7) # uses the language to filter out common words before processing, word with 0.7 frequency in this case\n",
    "tfid_train=tfid_vector.fit_transform(x_train)\n",
    "tfid_test=tfid_vector.transform(x_test)"
   ]
  },
  {
   "cell_type": "code",
   "execution_count": 48,
   "id": "a5c34d8b-7235-4ed1-a781-fc3dd2db5d91",
   "metadata": {},
   "outputs": [
    {
     "name": "stdout",
     "output_type": "stream",
     "text": [
      "accuracy:94.081%\n"
     ]
    }
   ],
   "source": [
    "pac=PassiveAggressiveClassifier(max_iter=60) # higher iteration values dim accuracy\n",
    "pac.fit(tfid_train,y_train)\n",
    "\n",
    "y_pred=pac.predict(tfid_test)\n",
    "score = accuracy_score(y_test, y_pred)    #determines model accuracy by comparing predicted cases with actual cases\n",
    "print(f'accuracy:{round(score*100, 3)}%')  #lower random state improves accuracy"
   ]
  },
  {
   "cell_type": "code",
   "execution_count": null,
   "id": "39a49db1-e0cd-4fce-a1b2-27b6effc961b",
   "metadata": {},
   "outputs": [],
   "source": []
  }
 ],
 "metadata": {
  "kernelspec": {
   "display_name": "Python 3 (ipykernel)",
   "language": "python",
   "name": "python3"
  },
  "language_info": {
   "codemirror_mode": {
    "name": "ipython",
    "version": 3
   },
   "file_extension": ".py",
   "mimetype": "text/x-python",
   "name": "python",
   "nbconvert_exporter": "python",
   "pygments_lexer": "ipython3",
   "version": "3.10.1"
  }
 },
 "nbformat": 4,
 "nbformat_minor": 5
}
